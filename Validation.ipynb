{
 "cells": [
  {
   "cell_type": "code",
   "execution_count": 1,
   "id": "RNxlF74G_wA5",
   "metadata": {
    "colab": {
     "base_uri": "https://localhost:8080/"
    },
    "executionInfo": {
     "elapsed": 1935,
     "status": "ok",
     "timestamp": 1742736212872,
     "user": {
      "displayName": "Babyshree",
      "userId": "15899242078621575797"
     },
     "user_tz": -330
    },
    "id": "RNxlF74G_wA5",
    "outputId": "1234175f-6f3b-422e-c689-baac529715d5"
   },
   "outputs": [
    {
     "ename": "ModuleNotFoundError",
     "evalue": "No module named 'google.colab'",
     "output_type": "error",
     "traceback": [
      "\u001b[1;31m---------------------------------------------------------------------------\u001b[0m",
      "\u001b[1;31mModuleNotFoundError\u001b[0m                       Traceback (most recent call last)",
      "Cell \u001b[1;32mIn[1], line 1\u001b[0m\n\u001b[1;32m----> 1\u001b[0m \u001b[38;5;28;01mfrom\u001b[39;00m \u001b[38;5;21;01mgoogle\u001b[39;00m\u001b[38;5;21;01m.\u001b[39;00m\u001b[38;5;21;01mcolab\u001b[39;00m \u001b[38;5;28;01mimport\u001b[39;00m drive\n\u001b[0;32m      2\u001b[0m drive\u001b[38;5;241m.\u001b[39mmount(\u001b[38;5;124m'\u001b[39m\u001b[38;5;124m/content/drive\u001b[39m\u001b[38;5;124m'\u001b[39m)\n",
      "\u001b[1;31mModuleNotFoundError\u001b[0m: No module named 'google.colab'"
     ]
    }
   ],
   "source": [
    "from google.colab import drive\n",
    "drive.mount('/content/drive')\n"
   ]
  },
  {
   "cell_type": "code",
   "execution_count": null,
   "id": "9941bca1-3a29-4835-a980-d55dcb53ac65",
   "metadata": {
    "colab": {
     "base_uri": "https://localhost:8080/"
    },
    "executionInfo": {
     "elapsed": 29648,
     "status": "ok",
     "timestamp": 1742736936537,
     "user": {
      "displayName": "Babyshree",
      "userId": "15899242078621575797"
     },
     "user_tz": -330
    },
    "id": "9941bca1-3a29-4835-a980-d55dcb53ac65",
    "outputId": "044639c6-7d71-407a-9598-3b5b5328cb5d"
   },
   "outputs": [],
   "source": [
    "import numpy as np\n",
    "import joblib\n",
    "import tensorflow as tf\n",
    "from tensorflow.keras.models import load_model\n",
    "\n",
    "# Load trained LSTM model\n",
    "model = load_model('/content/drive/MyDrive/Machine/lstm_failure_model.h5')\n",
    "\n",
    "# Load the MinMaxScaler used during training\n",
    "scaler = joblib.load('/content/drive/MyDrive/Machine/scaler.pkl')\n",
    "\n",
    "# Define encoding for 'Type' (machine type)\n",
    "type_mapping = {'H': 0, 'L': 1, 'M': 2}\n",
    "5\n",
    "\n",
    "# {'HDF':(0), 'OSF':(1), 'PWF': (2), 'RNF':(3), 'TWF':(4), 'normal': (5)}\n",
    "# Define decoding for 'Reason' (failure reasons)\n",
    "reason_mapping = {\n",
    "    0: 'HDF',  # Tool Wear Failure\n",
    "    1: 'OSF',  # Heat Dissipation Failure\n",
    "    2: 'PWF',  # Power Failure\n",
    "    3: 'RNF',  # Overstrain Failure\n",
    "    4: 'TWF',  # Random Failure\n",
    "    5: 'Normal'  # No Failure\n",
    "}\n",
    "\n",
    "print(\"\\n🔹 Enter machine parameters for prediction:\")\n",
    "\n",
    "# Get and encode 'Type'\n",
    "while True:\n",
    "    machine_type = input(\"🔹 Machine Type (L/H/M): \").strip().upper()\n",
    "    if machine_type in type_mapping:\n",
    "        machine_type_encoded = type_mapping[machine_type]\n",
    "        break\n",
    "    print(\"❌ Invalid Machine Type! Choose from: L, H, M\")\n",
    "\n",
    "# Get numerical inputs\n",
    "try:\n",
    "    air_temp = float(input(\"🌡 Air Temperature [K]: \"))\n",
    "    process_temp = float(input(\"🔥 Process Temperature [K]: \"))\n",
    "    rot_speed = int(input(\"🔄 Rotational Speed [rpm]: \"))\n",
    "    torque = float(input(\"⚙ Torque [Nm]: \"))\n",
    "    tool_wear = int(input(\"⏳ Tool Wear [min]: \"))\n",
    "except ValueError:\n",
    "    print(\"❌ Invalid input! Please enter numerical values.\")\n",
    "    exit()\n",
    "\n",
    "# Prepare user input (including 'Type') for scaling\n",
    "user_features = np.array([[machine_type_encoded, air_temp, process_temp, rot_speed, torque, tool_wear]])\n",
    "\n",
    "# Apply MinMaxScaler transformation (now including Type column)\n",
    "user_features_scaled = scaler.transform(user_features)\n",
    "\n",
    "# Reshape for LSTM (samples, time steps, features)\n",
    "user_input_reshaped = user_features_scaled.reshape((1, 1, user_features_scaled.shape[1]))\n",
    "\n",
    "# Model prediction\n",
    "prediction = model.predict(user_input_reshaped)\n",
    "predicted_reason_index = np.argmax(prediction)  # Get highest probability index\n",
    "\n",
    "# Decode reason from mapping\n",
    "predicted_reason_label = reason_mapping.get(predicted_reason_index, \"Unknown\")\n",
    "\n",
    "print(f\"\\n✅ **Predicted Machine Wear-out Reason:** {predicted_reason_label}\")\n"
   ]
  },
  {
   "cell_type": "code",
   "execution_count": null,
   "id": "Py3UHO8eFKSY",
   "metadata": {
    "id": "Py3UHO8eFKSY"
   },
   "outputs": [],
   "source": []
  }
 ],
 "metadata": {
  "colab": {
   "provenance": []
  },
  "kernelspec": {
   "display_name": "Python 3 (ipykernel)",
   "language": "python",
   "name": "python3"
  },
  "language_info": {
   "codemirror_mode": {
    "name": "ipython",
    "version": 3
   },
   "file_extension": ".py",
   "mimetype": "text/x-python",
   "name": "python",
   "nbconvert_exporter": "python",
   "pygments_lexer": "ipython3",
   "version": "3.12.7"
  }
 },
 "nbformat": 4,
 "nbformat_minor": 5
}
